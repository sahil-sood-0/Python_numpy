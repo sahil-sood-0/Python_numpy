{
 "cells": [
  {
   "cell_type": "code",
   "execution_count": 1,
   "metadata": {},
   "outputs": [
    {
     "name": "stdout",
     "output_type": "stream",
     "text": [
      "Requirement already satisfied: numpy in /Users/apple/opt/anaconda3/lib/python3.9/site-packages (1.21.5)\n",
      "\n",
      "\u001b[1m[\u001b[0m\u001b[34;49mnotice\u001b[0m\u001b[1;39;49m]\u001b[0m\u001b[39;49m A new release of pip available: \u001b[0m\u001b[31;49m22.3.1\u001b[0m\u001b[39;49m -> \u001b[0m\u001b[32;49m23.0.1\u001b[0m\n",
      "\u001b[1m[\u001b[0m\u001b[34;49mnotice\u001b[0m\u001b[1;39;49m]\u001b[0m\u001b[39;49m To update, run: \u001b[0m\u001b[32;49mpip install --upgrade pip\u001b[0m\n"
     ]
    }
   ],
   "source": [
    "!pip install numpy"
   ]
  },
  {
   "cell_type": "code",
   "execution_count": 2,
   "metadata": {},
   "outputs": [],
   "source": [
    "import numpy as np"
   ]
  },
  {
   "cell_type": "markdown",
   "metadata": {},
   "source": [
    "# 1. Create"
   ]
  },
  {
   "cell_type": "code",
   "execution_count": 3,
   "metadata": {},
   "outputs": [],
   "source": [
    "data = np.random.rand(2,3,4)\n",
    "zeroes = np.zeros((2,2,2))\n",
    "full = np.full((2,2,2), 7)\n",
    "ones = np.ones((2,2,2))"
   ]
  },
  {
   "cell_type": "code",
   "execution_count": 4,
   "metadata": {},
   "outputs": [
    {
     "data": {
      "text/plain": [
       "array([[[0.26627053, 0.53282023, 0.43582756, 0.09682948],\n",
       "        [0.98588057, 0.61907291, 0.15630143, 0.42345493],\n",
       "        [0.85923674, 0.94635698, 0.67835361, 0.24457791]],\n",
       "\n",
       "       [[0.83069905, 0.8001238 , 0.54664149, 0.70031627],\n",
       "        [0.62295321, 0.54339334, 0.28347356, 0.63100938],\n",
       "        [0.72604727, 0.1329136 , 0.87568866, 0.78436664]]])"
      ]
     },
     "execution_count": 4,
     "metadata": {},
     "output_type": "execute_result"
    }
   ],
   "source": [
    "data"
   ]
  },
  {
   "cell_type": "code",
   "execution_count": 5,
   "metadata": {},
   "outputs": [
    {
     "data": {
      "text/plain": [
       "array([[[1., 1.],\n",
       "        [1., 1.]],\n",
       "\n",
       "       [[1., 1.],\n",
       "        [1., 1.]]])"
      ]
     },
     "execution_count": 5,
     "metadata": {},
     "output_type": "execute_result"
    }
   ],
   "source": [
    "ones"
   ]
  },
  {
   "cell_type": "code",
   "execution_count": 6,
   "metadata": {},
   "outputs": [],
   "source": [
    "arr = np.array([[1,2,3,4],[1,2,3,4]])"
   ]
  },
  {
   "cell_type": "code",
   "execution_count": 7,
   "metadata": {},
   "outputs": [
    {
     "data": {
      "text/plain": [
       "numpy.ndarray"
      ]
     },
     "execution_count": 7,
     "metadata": {},
     "output_type": "execute_result"
    }
   ],
   "source": [
    "type(arr)"
   ]
  },
  {
   "cell_type": "code",
   "execution_count": null,
   "metadata": {},
   "outputs": [],
   "source": []
  },
  {
   "cell_type": "markdown",
   "metadata": {},
   "source": [
    "# 2. Read"
   ]
  },
  {
   "cell_type": "code",
   "execution_count": 8,
   "metadata": {},
   "outputs": [],
   "source": [
    "# Attributes\n",
    "shape = data.shape\n",
    "size = data.size\n",
    "types = data.dtype"
   ]
  },
  {
   "cell_type": "code",
   "execution_count": 9,
   "metadata": {},
   "outputs": [
    {
     "data": {
      "text/plain": [
       "dtype('float64')"
      ]
     },
     "execution_count": 9,
     "metadata": {},
     "output_type": "execute_result"
    }
   ],
   "source": [
    "types"
   ]
  },
  {
   "cell_type": "code",
   "execution_count": 10,
   "metadata": {},
   "outputs": [],
   "source": [
    "# Slicing\n",
    "arr = data[0]\n",
    "slicer = data[0][0:2]\n",
    "reverse = data[-1]\n",
    "singleval = data[0][0][0]"
   ]
  },
  {
   "cell_type": "code",
   "execution_count": 11,
   "metadata": {},
   "outputs": [
    {
     "data": {
      "text/plain": [
       "0.2662705347462502"
      ]
     },
     "execution_count": 11,
     "metadata": {},
     "output_type": "execute_result"
    }
   ],
   "source": [
    "singleval"
   ]
  },
  {
   "cell_type": "code",
   "execution_count": 12,
   "metadata": {},
   "outputs": [
    {
     "data": {
      "text/plain": [
       "array([[[0.26627053, 0.53282023, 0.43582756, 0.09682948],\n",
       "        [0.98588057, 0.61907291, 0.15630143, 0.42345493],\n",
       "        [0.85923674, 0.94635698, 0.67835361, 0.24457791]],\n",
       "\n",
       "       [[0.83069905, 0.8001238 , 0.54664149, 0.70031627],\n",
       "        [0.62295321, 0.54339334, 0.28347356, 0.63100938],\n",
       "        [0.72604727, 0.1329136 , 0.87568866, 0.78436664]]])"
      ]
     },
     "execution_count": 12,
     "metadata": {},
     "output_type": "execute_result"
    }
   ],
   "source": [
    "data"
   ]
  },
  {
   "cell_type": "markdown",
   "metadata": {},
   "source": [
    "# 3. Update"
   ]
  },
  {
   "cell_type": "code",
   "execution_count": 13,
   "metadata": {},
   "outputs": [],
   "source": [
    "list1 = np.random.rand(10) \n",
    "list2 = np.random.rand(10) "
   ]
  },
  {
   "cell_type": "code",
   "execution_count": 14,
   "metadata": {},
   "outputs": [
    {
     "data": {
      "text/plain": [
       "array([0.3063025 , 0.94391284, 0.65111057, 0.33879812, 0.77313165,\n",
       "       0.73131452, 0.29678173, 0.92743002, 0.6631745 , 0.33332028])"
      ]
     },
     "execution_count": 14,
     "metadata": {},
     "output_type": "execute_result"
    }
   ],
   "source": [
    "list2"
   ]
  },
  {
   "cell_type": "code",
   "execution_count": 15,
   "metadata": {},
   "outputs": [],
   "source": [
    "# Basic Math\n",
    "add = np.add(list1, list2)\n",
    "sub = np.subtract(list1, list2)\n",
    "div = np.divide(list1, list2)\n",
    "mult = np.multiply(list1, list2)\n",
    "dot = np.dot(list1, list2)"
   ]
  },
  {
   "cell_type": "code",
   "execution_count": 16,
   "metadata": {},
   "outputs": [
    {
     "data": {
      "text/plain": [
       "3.659055981791086"
      ]
     },
     "execution_count": 16,
     "metadata": {},
     "output_type": "execute_result"
    }
   ],
   "source": [
    "dot"
   ]
  },
  {
   "cell_type": "code",
   "execution_count": 17,
   "metadata": {},
   "outputs": [],
   "source": [
    "# Stat Functions\n",
    "sqrt = np.sqrt(25)\n",
    "ab = np.abs(-2)\n",
    "power = np.power(2,7)\n",
    "log = np.log(25)\n",
    "exp = np.exp([2,3])\n",
    "mins = np.min(list1)\n",
    "maxs = np.max(list1)"
   ]
  },
  {
   "cell_type": "code",
   "execution_count": 18,
   "metadata": {},
   "outputs": [
    {
     "data": {
      "text/plain": [
       "0.9687578112470048"
      ]
     },
     "execution_count": 18,
     "metadata": {},
     "output_type": "execute_result"
    }
   ],
   "source": [
    "maxs"
   ]
  },
  {
   "cell_type": "code",
   "execution_count": 19,
   "metadata": {},
   "outputs": [
    {
     "data": {
      "text/plain": [
       "array([[[0.26627053, 0.53282023, 0.43582756, 0.09682948],\n",
       "        [0.98588057, 0.61907291, 0.15630143, 0.42345493],\n",
       "        [0.85923674, 0.94635698, 0.67835361, 0.24457791]],\n",
       "\n",
       "       [[0.83069905, 0.8001238 , 0.54664149, 0.70031627],\n",
       "        [0.62295321, 0.54339334, 0.28347356, 0.63100938],\n",
       "        [0.72604727, 0.1329136 , 0.87568866, 0.78436664]]])"
      ]
     },
     "execution_count": 19,
     "metadata": {},
     "output_type": "execute_result"
    }
   ],
   "source": [
    "data"
   ]
  },
  {
   "cell_type": "code",
   "execution_count": 20,
   "metadata": {},
   "outputs": [],
   "source": [
    "data[0][0][0] = 700"
   ]
  },
  {
   "cell_type": "code",
   "execution_count": 21,
   "metadata": {},
   "outputs": [
    {
     "data": {
      "text/plain": [
       "array([[[7.00000000e+02, 5.32820230e-01, 4.35827560e-01, 9.68294765e-02],\n",
       "        [9.85880566e-01, 6.19072909e-01, 1.56301427e-01, 4.23454928e-01],\n",
       "        [8.59236739e-01, 9.46356976e-01, 6.78353609e-01, 2.44577914e-01]],\n",
       "\n",
       "       [[8.30699052e-01, 8.00123800e-01, 5.46641486e-01, 7.00316271e-01],\n",
       "        [6.22953207e-01, 5.43393337e-01, 2.83473561e-01, 6.31009377e-01],\n",
       "        [7.26047269e-01, 1.32913597e-01, 8.75688659e-01, 7.84366638e-01]]])"
      ]
     },
     "execution_count": 21,
     "metadata": {},
     "output_type": "execute_result"
    }
   ],
   "source": [
    "data"
   ]
  },
  {
   "cell_type": "code",
   "execution_count": 22,
   "metadata": {},
   "outputs": [
    {
     "data": {
      "text/plain": [
       "array([[[9.68294765e-02, 4.35827560e-01, 5.32820230e-01, 7.00000000e+02],\n",
       "        [1.56301427e-01, 4.23454928e-01, 6.19072909e-01, 9.85880566e-01],\n",
       "        [2.44577914e-01, 6.78353609e-01, 8.59236739e-01, 9.46356976e-01]],\n",
       "\n",
       "       [[5.46641486e-01, 7.00316271e-01, 8.00123800e-01, 8.30699052e-01],\n",
       "        [2.83473561e-01, 5.43393337e-01, 6.22953207e-01, 6.31009377e-01],\n",
       "        [1.32913597e-01, 7.26047269e-01, 7.84366638e-01, 8.75688659e-01]]])"
      ]
     },
     "execution_count": 22,
     "metadata": {},
     "output_type": "execute_result"
    }
   ],
   "source": [
    "data.sort()\n",
    "data"
   ]
  },
  {
   "cell_type": "code",
   "execution_count": 23,
   "metadata": {},
   "outputs": [
    {
     "name": "stdout",
     "output_type": "stream",
     "text": [
      "(2, 3, 4)\n"
     ]
    }
   ],
   "source": [
    "print(data.shape)"
   ]
  },
  {
   "cell_type": "code",
   "execution_count": 24,
   "metadata": {},
   "outputs": [
    {
     "data": {
      "text/plain": [
       "(2, 2, 6)"
      ]
     },
     "execution_count": 24,
     "metadata": {},
     "output_type": "execute_result"
    }
   ],
   "source": [
    "data = data.reshape((2,2,-1))\n",
    "data.shape"
   ]
  },
  {
   "cell_type": "code",
   "execution_count": 25,
   "metadata": {},
   "outputs": [
    {
     "name": "stdout",
     "output_type": "stream",
     "text": [
      "[0. 0. 0. 0. 0. 0. 0. 0.]\n",
      "[0. 0. 0. 0. 0. 0. 0. 0. 3. 4.]\n"
     ]
    }
   ],
   "source": [
    "zeroes = np.zeros((8))\n",
    "print(zeroes)\n",
    "zeroes = np.append(zeroes, [3,4])\n",
    "print(zeroes)"
   ]
  },
  {
   "cell_type": "code",
   "execution_count": 26,
   "metadata": {},
   "outputs": [
    {
     "name": "stdout",
     "output_type": "stream",
     "text": [
      "[0. 0. 1. 0. 0. 0. 0. 0. 0. 3. 4.]\n"
     ]
    }
   ],
   "source": [
    "zeroes = np.insert(zeroes, 2, 1)\n",
    "print(zeroes)"
   ]
  },
  {
   "cell_type": "markdown",
   "metadata": {},
   "source": [
    "# 4. Delete"
   ]
  },
  {
   "cell_type": "code",
   "execution_count": 27,
   "metadata": {},
   "outputs": [
    {
     "data": {
      "text/plain": [
       "array([[[9.68294765e-02, 4.35827560e-01, 5.32820230e-01, 7.00000000e+02,\n",
       "         1.56301427e-01, 4.23454928e-01],\n",
       "        [6.19072909e-01, 9.85880566e-01, 2.44577914e-01, 6.78353609e-01,\n",
       "         8.59236739e-01, 9.46356976e-01]],\n",
       "\n",
       "       [[5.46641486e-01, 7.00316271e-01, 8.00123800e-01, 8.30699052e-01,\n",
       "         2.83473561e-01, 5.43393337e-01],\n",
       "        [6.22953207e-01, 6.31009377e-01, 1.32913597e-01, 7.26047269e-01,\n",
       "         7.84366638e-01, 8.75688659e-01]]])"
      ]
     },
     "execution_count": 27,
     "metadata": {},
     "output_type": "execute_result"
    }
   ],
   "source": [
    "data"
   ]
  },
  {
   "cell_type": "code",
   "execution_count": 28,
   "metadata": {},
   "outputs": [
    {
     "data": {
      "text/plain": [
       "array([[[0.61907291, 0.98588057, 0.24457791, 0.67835361, 0.85923674,\n",
       "         0.94635698]],\n",
       "\n",
       "       [[0.62295321, 0.63100938, 0.1329136 , 0.72604727, 0.78436664,\n",
       "         0.87568866]]])"
      ]
     },
     "execution_count": 28,
     "metadata": {},
     "output_type": "execute_result"
    }
   ],
   "source": [
    "np.delete(data, 0, axis=1)"
   ]
  },
  {
   "cell_type": "code",
   "execution_count": 29,
   "metadata": {},
   "outputs": [],
   "source": [
    "np.save(\"new array\", data)"
   ]
  },
  {
   "cell_type": "code",
   "execution_count": 30,
   "metadata": {},
   "outputs": [],
   "source": [
    "test = np.load(\"new array.npy\")"
   ]
  },
  {
   "cell_type": "code",
   "execution_count": 31,
   "metadata": {},
   "outputs": [
    {
     "data": {
      "text/plain": [
       "array([[[9.68294765e-02, 4.35827560e-01, 5.32820230e-01, 7.00000000e+02,\n",
       "         1.56301427e-01, 4.23454928e-01],\n",
       "        [6.19072909e-01, 9.85880566e-01, 2.44577914e-01, 6.78353609e-01,\n",
       "         8.59236739e-01, 9.46356976e-01]],\n",
       "\n",
       "       [[5.46641486e-01, 7.00316271e-01, 8.00123800e-01, 8.30699052e-01,\n",
       "         2.83473561e-01, 5.43393337e-01],\n",
       "        [6.22953207e-01, 6.31009377e-01, 1.32913597e-01, 7.26047269e-01,\n",
       "         7.84366638e-01, 8.75688659e-01]]])"
      ]
     },
     "execution_count": 31,
     "metadata": {},
     "output_type": "execute_result"
    }
   ],
   "source": [
    "test"
   ]
  },
  {
   "cell_type": "code",
   "execution_count": null,
   "metadata": {},
   "outputs": [],
   "source": []
  }
 ],
 "metadata": {
  "kernelspec": {
   "display_name": "Python 3 (ipykernel)",
   "language": "python",
   "name": "python3"
  },
  "language_info": {
   "codemirror_mode": {
    "name": "ipython",
    "version": 3
   },
   "file_extension": ".py",
   "mimetype": "text/x-python",
   "name": "python",
   "nbconvert_exporter": "python",
   "pygments_lexer": "ipython3",
   "version": "3.9.13"
  }
 },
 "nbformat": 4,
 "nbformat_minor": 2
}
